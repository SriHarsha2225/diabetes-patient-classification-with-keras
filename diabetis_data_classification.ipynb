{
  "nbformat": 4,
  "nbformat_minor": 0,
  "metadata": {
    "colab": {
      "name": "diabetis data classification",
      "provenance": []
    },
    "kernelspec": {
      "name": "python3",
      "display_name": "Python 3"
    }
  },
  "cells": [
    {
      "cell_type": "code",
      "metadata": {
        "id": "8w8KeeLT9WOF",
        "colab_type": "code",
        "colab": {}
      },
      "source": [
        "#importing libraries\n",
        "import pandas as pd\n",
        "import numpy as np\n",
        "import matplotlib.pyplot as plt\n"
      ],
      "execution_count": 0,
      "outputs": []
    },
    {
      "cell_type": "code",
      "metadata": {
        "id": "MsRRk6WA9lYO",
        "colab_type": "code",
        "outputId": "f772d852-7681-447a-deca-b0ef9e5f6360",
        "colab": {
          "base_uri": "https://localhost:8080/",
          "height": 54
        }
      },
      "source": [
        "#mounting Colabs with the google drive to read the datasets\n",
        "from google.colab import drive\n",
        "drive.mount('/content/drive')"
      ],
      "execution_count": 0,
      "outputs": [
        {
          "output_type": "stream",
          "text": [
            "Drive already mounted at /content/drive; to attempt to forcibly remount, call drive.mount(\"/content/drive\", force_remount=True).\n"
          ],
          "name": "stdout"
        }
      ]
    },
    {
      "cell_type": "code",
      "metadata": {
        "id": "9gfyE7jX-T1L",
        "colab_type": "code",
        "colab": {}
      },
      "source": [
        "data = pd.read_csv(\"/content/drive/My Drive/Colab Notebooks/diabetes_data.csv\")  #reading dataset from the drive"
      ],
      "execution_count": 0,
      "outputs": []
    },
    {
      "cell_type": "code",
      "metadata": {
        "id": "oGnP2ab_-u0P",
        "colab_type": "code",
        "outputId": "d2ebe322-a999-4c80-8b70-f046200011bc",
        "colab": {
          "base_uri": "https://localhost:8080/",
          "height": 195
        }
      },
      "source": [
        "data.head() #shows the first 5 rows of the dataset"
      ],
      "execution_count": 0,
      "outputs": [
        {
          "output_type": "execute_result",
          "data": {
            "text/html": [
              "<div>\n",
              "<style scoped>\n",
              "    .dataframe tbody tr th:only-of-type {\n",
              "        vertical-align: middle;\n",
              "    }\n",
              "\n",
              "    .dataframe tbody tr th {\n",
              "        vertical-align: top;\n",
              "    }\n",
              "\n",
              "    .dataframe thead th {\n",
              "        text-align: right;\n",
              "    }\n",
              "</style>\n",
              "<table border=\"1\" class=\"dataframe\">\n",
              "  <thead>\n",
              "    <tr style=\"text-align: right;\">\n",
              "      <th></th>\n",
              "      <th>6</th>\n",
              "      <th>148</th>\n",
              "      <th>72</th>\n",
              "      <th>35</th>\n",
              "      <th>0</th>\n",
              "      <th>33.6</th>\n",
              "      <th>0.627</th>\n",
              "      <th>50</th>\n",
              "      <th>1</th>\n",
              "    </tr>\n",
              "  </thead>\n",
              "  <tbody>\n",
              "    <tr>\n",
              "      <th>0</th>\n",
              "      <td>1</td>\n",
              "      <td>85</td>\n",
              "      <td>66</td>\n",
              "      <td>29</td>\n",
              "      <td>0</td>\n",
              "      <td>26.6</td>\n",
              "      <td>0.351</td>\n",
              "      <td>31</td>\n",
              "      <td>0</td>\n",
              "    </tr>\n",
              "    <tr>\n",
              "      <th>1</th>\n",
              "      <td>8</td>\n",
              "      <td>183</td>\n",
              "      <td>64</td>\n",
              "      <td>0</td>\n",
              "      <td>0</td>\n",
              "      <td>23.3</td>\n",
              "      <td>0.672</td>\n",
              "      <td>32</td>\n",
              "      <td>1</td>\n",
              "    </tr>\n",
              "    <tr>\n",
              "      <th>2</th>\n",
              "      <td>1</td>\n",
              "      <td>89</td>\n",
              "      <td>66</td>\n",
              "      <td>23</td>\n",
              "      <td>94</td>\n",
              "      <td>28.1</td>\n",
              "      <td>0.167</td>\n",
              "      <td>21</td>\n",
              "      <td>0</td>\n",
              "    </tr>\n",
              "    <tr>\n",
              "      <th>3</th>\n",
              "      <td>0</td>\n",
              "      <td>137</td>\n",
              "      <td>40</td>\n",
              "      <td>35</td>\n",
              "      <td>168</td>\n",
              "      <td>43.1</td>\n",
              "      <td>2.288</td>\n",
              "      <td>33</td>\n",
              "      <td>1</td>\n",
              "    </tr>\n",
              "    <tr>\n",
              "      <th>4</th>\n",
              "      <td>5</td>\n",
              "      <td>116</td>\n",
              "      <td>74</td>\n",
              "      <td>0</td>\n",
              "      <td>0</td>\n",
              "      <td>25.6</td>\n",
              "      <td>0.201</td>\n",
              "      <td>30</td>\n",
              "      <td>0</td>\n",
              "    </tr>\n",
              "  </tbody>\n",
              "</table>\n",
              "</div>"
            ],
            "text/plain": [
              "   6  148  72  35    0  33.6  0.627  50  1\n",
              "0  1   85  66  29    0  26.6  0.351  31  0\n",
              "1  8  183  64   0    0  23.3  0.672  32  1\n",
              "2  1   89  66  23   94  28.1  0.167  21  0\n",
              "3  0  137  40  35  168  43.1  2.288  33  1\n",
              "4  5  116  74   0    0  25.6  0.201  30  0"
            ]
          },
          "metadata": {
            "tags": []
          },
          "execution_count": 40
        }
      ]
    },
    {
      "cell_type": "code",
      "metadata": {
        "id": "hk8rQzTyC78M",
        "colab_type": "code",
        "outputId": "b995a9af-6144-42a0-beb6-5dcc1e28c731",
        "colab": {
          "base_uri": "https://localhost:8080/",
          "height": 168
        }
      },
      "source": [
        "for col in data.columns:    #prints the columns of the dataset\n",
        "  print(col)"
      ],
      "execution_count": 0,
      "outputs": [
        {
          "output_type": "stream",
          "text": [
            "6\n",
            "148\n",
            "72\n",
            "35\n",
            "0\n",
            "33.6\n",
            "0.627\n",
            "50\n",
            "1\n"
          ],
          "name": "stdout"
        }
      ]
    },
    {
      "cell_type": "code",
      "metadata": {
        "id": "U4kRMWGL-5rY",
        "colab_type": "code",
        "outputId": "6e5a20f3-e5c3-4b78-c850-a6b137affa8c",
        "colab": {
          "base_uri": "https://localhost:8080/",
          "height": 218
        }
      },
      "source": [
        "#x= data[columns('6','148','72','35','0','33.6','0.627','50')]\n",
        "cols=['6','148','72','35','0','33.6','0.627','50']\n",
        "x_data =data[cols]\n",
        "y_data = data['1']\n",
        "y_data"
      ],
      "execution_count": 0,
      "outputs": [
        {
          "output_type": "execute_result",
          "data": {
            "text/plain": [
              "0      0\n",
              "1      1\n",
              "2      0\n",
              "3      1\n",
              "4      0\n",
              "      ..\n",
              "762    0\n",
              "763    0\n",
              "764    0\n",
              "765    1\n",
              "766    0\n",
              "Name: 1, Length: 767, dtype: int64"
            ]
          },
          "metadata": {
            "tags": []
          },
          "execution_count": 42
        }
      ]
    },
    {
      "cell_type": "code",
      "metadata": {
        "id": "sEwTIAKESHtE",
        "colab_type": "code",
        "outputId": "8f34ae6b-f79d-4ace-bf75-2c331ba8de7f",
        "colab": {
          "base_uri": "https://localhost:8080/",
          "height": 34
        }
      },
      "source": [
        "# split the dataset as 80% to train and 20% test\n",
        "from sklearn.model_selection import train_test_split \n",
        "xtrain,xtest,ytrain,ytest = train_test_split(x_data,y_data,test_size=0.2,random_state = 0)\n",
        "len(xtrain),len(ytrain),len(xtest),len(ytest)"
      ],
      "execution_count": 0,
      "outputs": [
        {
          "output_type": "execute_result",
          "data": {
            "text/plain": [
              "(613, 613, 154, 154)"
            ]
          },
          "metadata": {
            "tags": []
          },
          "execution_count": 43
        }
      ]
    },
    {
      "cell_type": "code",
      "metadata": {
        "id": "mC8EqIUT_EzN",
        "colab_type": "code",
        "colab": {}
      },
      "source": [
        "# import the keras libraries \n",
        "from keras.models import Sequential\n",
        "from keras.layers import Dense\n",
        "from keras.optimizers import SGD,Adam\n",
        "from keras.utils import to_categorical"
      ],
      "execution_count": 0,
      "outputs": []
    },
    {
      "cell_type": "code",
      "metadata": {
        "id": "ddfo3HWP_ZZC",
        "colab_type": "code",
        "colab": {}
      },
      "source": [
        "model = Sequential()\n",
        "model.add(Dense(12,input_dim=8,activation='relu')) \n",
        "model.add(Dense(8,activation='relu'))\n",
        "model.add(Dense(1,activation='sigmoid'))\n"
      ],
      "execution_count": 0,
      "outputs": []
    },
    {
      "cell_type": "code",
      "metadata": {
        "id": "XEAX8gNYLWBp",
        "colab_type": "code",
        "outputId": "d22ffafc-a2a1-48e3-a6a2-d6fb1b65838f",
        "colab": {
          "base_uri": "https://localhost:8080/",
          "height": 1000
        }
      },
      "source": [
        "model.compile(loss='binary_crossentropy',optimizer='adam',metrics=['accuracy'])\n",
        "model.fit(xtrain,ytrain,epochs=150,batch_size=10)\n"
      ],
      "execution_count": 0,
      "outputs": [
        {
          "output_type": "stream",
          "text": [
            "Epoch 1/150\n",
            "613/613 [==============================] - 0s 765us/step - loss: 2.6723 - acc: 0.5253\n",
            "Epoch 2/150\n",
            "613/613 [==============================] - 0s 155us/step - loss: 1.9360 - acc: 0.5677\n",
            "Epoch 3/150\n",
            "613/613 [==============================] - 0s 151us/step - loss: 1.6451 - acc: 0.5840\n",
            "Epoch 4/150\n",
            "613/613 [==============================] - 0s 138us/step - loss: 1.4232 - acc: 0.5808\n",
            "Epoch 5/150\n",
            "613/613 [==============================] - 0s 131us/step - loss: 1.2320 - acc: 0.6248\n",
            "Epoch 6/150\n",
            "613/613 [==============================] - 0s 135us/step - loss: 1.0514 - acc: 0.6117\n",
            "Epoch 7/150\n",
            "613/613 [==============================] - 0s 132us/step - loss: 0.9800 - acc: 0.6297\n",
            "Epoch 8/150\n",
            "613/613 [==============================] - 0s 134us/step - loss: 0.8682 - acc: 0.6264\n",
            "Epoch 9/150\n",
            "613/613 [==============================] - 0s 136us/step - loss: 0.8411 - acc: 0.6232\n",
            "Epoch 10/150\n",
            "613/613 [==============================] - 0s 135us/step - loss: 0.7805 - acc: 0.6525\n",
            "Epoch 11/150\n",
            "613/613 [==============================] - 0s 127us/step - loss: 0.7532 - acc: 0.6460\n",
            "Epoch 12/150\n",
            "613/613 [==============================] - 0s 134us/step - loss: 0.7573 - acc: 0.6183\n",
            "Epoch 13/150\n",
            "613/613 [==============================] - 0s 134us/step - loss: 0.7104 - acc: 0.6411\n",
            "Epoch 14/150\n",
            "613/613 [==============================] - 0s 128us/step - loss: 0.7046 - acc: 0.6639\n",
            "Epoch 15/150\n",
            "613/613 [==============================] - 0s 133us/step - loss: 0.7022 - acc: 0.6639\n",
            "Epoch 16/150\n",
            "613/613 [==============================] - 0s 129us/step - loss: 0.6713 - acc: 0.6933\n",
            "Epoch 17/150\n",
            "613/613 [==============================] - 0s 138us/step - loss: 0.6856 - acc: 0.6591\n",
            "Epoch 18/150\n",
            "613/613 [==============================] - 0s 143us/step - loss: 0.6585 - acc: 0.6639\n",
            "Epoch 19/150\n",
            "613/613 [==============================] - 0s 131us/step - loss: 0.6536 - acc: 0.6754\n",
            "Epoch 20/150\n",
            "613/613 [==============================] - 0s 135us/step - loss: 0.6429 - acc: 0.6770\n",
            "Epoch 21/150\n",
            "613/613 [==============================] - 0s 125us/step - loss: 0.6587 - acc: 0.6574\n",
            "Epoch 22/150\n",
            "613/613 [==============================] - 0s 128us/step - loss: 0.6321 - acc: 0.6770\n",
            "Epoch 23/150\n",
            "613/613 [==============================] - 0s 127us/step - loss: 0.6296 - acc: 0.6917\n",
            "Epoch 24/150\n",
            "613/613 [==============================] - 0s 141us/step - loss: 0.6372 - acc: 0.6770\n",
            "Epoch 25/150\n",
            "613/613 [==============================] - 0s 144us/step - loss: 0.6420 - acc: 0.6542\n",
            "Epoch 26/150\n",
            "613/613 [==============================] - 0s 131us/step - loss: 0.6219 - acc: 0.6754\n",
            "Epoch 27/150\n",
            "613/613 [==============================] - 0s 134us/step - loss: 0.6146 - acc: 0.6868\n",
            "Epoch 28/150\n",
            "613/613 [==============================] - 0s 135us/step - loss: 0.6332 - acc: 0.6803\n",
            "Epoch 29/150\n",
            "613/613 [==============================] - 0s 136us/step - loss: 0.6292 - acc: 0.6737\n",
            "Epoch 30/150\n",
            "613/613 [==============================] - 0s 149us/step - loss: 0.5982 - acc: 0.6868\n",
            "Epoch 31/150\n",
            "613/613 [==============================] - 0s 151us/step - loss: 0.6168 - acc: 0.6639\n",
            "Epoch 32/150\n",
            "613/613 [==============================] - 0s 158us/step - loss: 0.6306 - acc: 0.6623\n",
            "Epoch 33/150\n",
            "613/613 [==============================] - 0s 166us/step - loss: 0.6980 - acc: 0.6688\n",
            "Epoch 34/150\n",
            "613/613 [==============================] - 0s 164us/step - loss: 0.6325 - acc: 0.6591\n",
            "Epoch 35/150\n",
            "613/613 [==============================] - 0s 136us/step - loss: 0.5905 - acc: 0.7113\n",
            "Epoch 36/150\n",
            "613/613 [==============================] - 0s 133us/step - loss: 0.6137 - acc: 0.6770\n",
            "Epoch 37/150\n",
            "613/613 [==============================] - 0s 139us/step - loss: 0.5956 - acc: 0.7096\n",
            "Epoch 38/150\n",
            "613/613 [==============================] - 0s 139us/step - loss: 0.5957 - acc: 0.6819\n",
            "Epoch 39/150\n",
            "613/613 [==============================] - 0s 145us/step - loss: 0.6139 - acc: 0.6868\n",
            "Epoch 40/150\n",
            "613/613 [==============================] - 0s 135us/step - loss: 0.5842 - acc: 0.7096\n",
            "Epoch 41/150\n",
            "613/613 [==============================] - 0s 138us/step - loss: 0.5832 - acc: 0.7064\n",
            "Epoch 42/150\n",
            "613/613 [==============================] - 0s 137us/step - loss: 0.5844 - acc: 0.7096\n",
            "Epoch 43/150\n",
            "613/613 [==============================] - 0s 142us/step - loss: 0.6146 - acc: 0.6917\n",
            "Epoch 44/150\n",
            "613/613 [==============================] - 0s 138us/step - loss: 0.6282 - acc: 0.6623\n",
            "Epoch 45/150\n",
            "613/613 [==============================] - 0s 139us/step - loss: 0.6039 - acc: 0.6933\n",
            "Epoch 46/150\n",
            "613/613 [==============================] - 0s 135us/step - loss: 0.5900 - acc: 0.7259\n",
            "Epoch 47/150\n",
            "613/613 [==============================] - 0s 143us/step - loss: 0.5758 - acc: 0.7129\n",
            "Epoch 48/150\n",
            "613/613 [==============================] - 0s 134us/step - loss: 0.5871 - acc: 0.7047\n",
            "Epoch 49/150\n",
            "613/613 [==============================] - 0s 143us/step - loss: 0.5736 - acc: 0.6982\n",
            "Epoch 50/150\n",
            "613/613 [==============================] - 0s 141us/step - loss: 0.5851 - acc: 0.6933\n",
            "Epoch 51/150\n",
            "613/613 [==============================] - 0s 136us/step - loss: 0.5657 - acc: 0.7113\n",
            "Epoch 52/150\n",
            "613/613 [==============================] - 0s 132us/step - loss: 0.6059 - acc: 0.6835\n",
            "Epoch 53/150\n",
            "613/613 [==============================] - 0s 144us/step - loss: 0.6063 - acc: 0.6900\n",
            "Epoch 54/150\n",
            "613/613 [==============================] - 0s 157us/step - loss: 0.5769 - acc: 0.7210\n",
            "Epoch 55/150\n",
            "613/613 [==============================] - 0s 150us/step - loss: 0.5564 - acc: 0.7227\n",
            "Epoch 56/150\n",
            "613/613 [==============================] - 0s 142us/step - loss: 0.5864 - acc: 0.7129\n",
            "Epoch 57/150\n",
            "613/613 [==============================] - 0s 142us/step - loss: 0.5735 - acc: 0.7080\n",
            "Epoch 58/150\n",
            "613/613 [==============================] - 0s 139us/step - loss: 0.5510 - acc: 0.7227\n",
            "Epoch 59/150\n",
            "613/613 [==============================] - 0s 142us/step - loss: 0.5557 - acc: 0.7243\n",
            "Epoch 60/150\n",
            "613/613 [==============================] - 0s 135us/step - loss: 0.5619 - acc: 0.7145\n",
            "Epoch 61/150\n",
            "613/613 [==============================] - 0s 131us/step - loss: 0.5782 - acc: 0.7031\n",
            "Epoch 62/150\n",
            "613/613 [==============================] - 0s 143us/step - loss: 0.5573 - acc: 0.7047\n",
            "Epoch 63/150\n",
            "613/613 [==============================] - 0s 155us/step - loss: 0.5714 - acc: 0.7162\n",
            "Epoch 64/150\n",
            "613/613 [==============================] - 0s 139us/step - loss: 0.5810 - acc: 0.7292\n",
            "Epoch 65/150\n",
            "613/613 [==============================] - 0s 147us/step - loss: 0.5432 - acc: 0.7276\n",
            "Epoch 66/150\n",
            "613/613 [==============================] - 0s 131us/step - loss: 0.5589 - acc: 0.7276\n",
            "Epoch 67/150\n",
            "613/613 [==============================] - 0s 136us/step - loss: 0.5603 - acc: 0.7325\n",
            "Epoch 68/150\n",
            "613/613 [==============================] - 0s 140us/step - loss: 0.5480 - acc: 0.7243\n",
            "Epoch 69/150\n",
            "613/613 [==============================] - 0s 133us/step - loss: 0.5553 - acc: 0.7276\n",
            "Epoch 70/150\n",
            "613/613 [==============================] - 0s 136us/step - loss: 0.5430 - acc: 0.7423\n",
            "Epoch 71/150\n",
            "613/613 [==============================] - 0s 138us/step - loss: 0.5608 - acc: 0.7194\n",
            "Epoch 72/150\n",
            "613/613 [==============================] - 0s 132us/step - loss: 0.5547 - acc: 0.7423\n",
            "Epoch 73/150\n",
            "613/613 [==============================] - 0s 142us/step - loss: 0.5665 - acc: 0.7162\n",
            "Epoch 74/150\n",
            "613/613 [==============================] - 0s 137us/step - loss: 0.5962 - acc: 0.7096\n",
            "Epoch 75/150\n",
            "613/613 [==============================] - 0s 141us/step - loss: 0.5796 - acc: 0.7129\n",
            "Epoch 76/150\n",
            "613/613 [==============================] - 0s 133us/step - loss: 0.5370 - acc: 0.7406\n",
            "Epoch 77/150\n",
            "613/613 [==============================] - 0s 132us/step - loss: 0.5569 - acc: 0.7210\n",
            "Epoch 78/150\n",
            "613/613 [==============================] - 0s 135us/step - loss: 0.5477 - acc: 0.7259\n",
            "Epoch 79/150\n",
            "613/613 [==============================] - 0s 163us/step - loss: 0.5431 - acc: 0.7227\n",
            "Epoch 80/150\n",
            "613/613 [==============================] - 0s 142us/step - loss: 0.5432 - acc: 0.7390\n",
            "Epoch 81/150\n",
            "613/613 [==============================] - 0s 136us/step - loss: 0.5444 - acc: 0.7194\n",
            "Epoch 82/150\n",
            "613/613 [==============================] - 0s 140us/step - loss: 0.5605 - acc: 0.7243\n",
            "Epoch 83/150\n",
            "613/613 [==============================] - 0s 145us/step - loss: 0.5335 - acc: 0.7553\n",
            "Epoch 84/150\n",
            "613/613 [==============================] - 0s 147us/step - loss: 0.5479 - acc: 0.7292\n",
            "Epoch 85/150\n",
            "613/613 [==============================] - 0s 143us/step - loss: 0.5733 - acc: 0.7194\n",
            "Epoch 86/150\n",
            "613/613 [==============================] - 0s 148us/step - loss: 0.5456 - acc: 0.7390\n",
            "Epoch 87/150\n",
            "613/613 [==============================] - 0s 151us/step - loss: 0.5665 - acc: 0.7325\n",
            "Epoch 88/150\n",
            "613/613 [==============================] - 0s 131us/step - loss: 0.5505 - acc: 0.7308\n",
            "Epoch 89/150\n",
            "613/613 [==============================] - 0s 138us/step - loss: 0.5289 - acc: 0.7455\n",
            "Epoch 90/150\n",
            "613/613 [==============================] - 0s 147us/step - loss: 0.5343 - acc: 0.7227\n",
            "Epoch 91/150\n",
            "613/613 [==============================] - 0s 141us/step - loss: 0.5459 - acc: 0.7341\n",
            "Epoch 92/150\n",
            "613/613 [==============================] - 0s 139us/step - loss: 0.5562 - acc: 0.7210\n",
            "Epoch 93/150\n",
            "613/613 [==============================] - 0s 145us/step - loss: 0.5421 - acc: 0.7325\n",
            "Epoch 94/150\n",
            "613/613 [==============================] - 0s 139us/step - loss: 0.5317 - acc: 0.7357\n",
            "Epoch 95/150\n",
            "613/613 [==============================] - 0s 143us/step - loss: 0.5369 - acc: 0.7439\n",
            "Epoch 96/150\n",
            "613/613 [==============================] - 0s 141us/step - loss: 0.5417 - acc: 0.7357\n",
            "Epoch 97/150\n",
            "613/613 [==============================] - 0s 139us/step - loss: 0.5268 - acc: 0.7488\n",
            "Epoch 98/150\n",
            "613/613 [==============================] - 0s 153us/step - loss: 0.5252 - acc: 0.7406\n",
            "Epoch 99/150\n",
            "613/613 [==============================] - 0s 148us/step - loss: 0.5383 - acc: 0.7276\n",
            "Epoch 100/150\n",
            "613/613 [==============================] - 0s 147us/step - loss: 0.5316 - acc: 0.7423\n",
            "Epoch 101/150\n",
            "613/613 [==============================] - 0s 146us/step - loss: 0.5165 - acc: 0.7439\n",
            "Epoch 102/150\n",
            "613/613 [==============================] - 0s 149us/step - loss: 0.5287 - acc: 0.7357\n",
            "Epoch 103/150\n",
            "613/613 [==============================] - 0s 147us/step - loss: 0.5457 - acc: 0.7227\n",
            "Epoch 104/150\n",
            "613/613 [==============================] - 0s 143us/step - loss: 0.5236 - acc: 0.7537\n",
            "Epoch 105/150\n",
            "613/613 [==============================] - 0s 150us/step - loss: 0.5414 - acc: 0.7341\n",
            "Epoch 106/150\n",
            "613/613 [==============================] - 0s 145us/step - loss: 0.5160 - acc: 0.7423\n",
            "Epoch 107/150\n",
            "613/613 [==============================] - 0s 145us/step - loss: 0.5400 - acc: 0.7406\n",
            "Epoch 108/150\n",
            "613/613 [==============================] - 0s 134us/step - loss: 0.5156 - acc: 0.7471\n",
            "Epoch 109/150\n",
            "613/613 [==============================] - 0s 136us/step - loss: 0.5520 - acc: 0.7341\n",
            "Epoch 110/150\n",
            "613/613 [==============================] - 0s 135us/step - loss: 0.5124 - acc: 0.7586\n",
            "Epoch 111/150\n",
            "613/613 [==============================] - 0s 171us/step - loss: 0.5416 - acc: 0.7325\n",
            "Epoch 112/150\n",
            "613/613 [==============================] - 0s 165us/step - loss: 0.5209 - acc: 0.7423\n",
            "Epoch 113/150\n",
            "613/613 [==============================] - 0s 147us/step - loss: 0.5109 - acc: 0.7341\n",
            "Epoch 114/150\n",
            "613/613 [==============================] - 0s 158us/step - loss: 0.5458 - acc: 0.7423\n",
            "Epoch 115/150\n",
            "613/613 [==============================] - 0s 146us/step - loss: 0.5281 - acc: 0.7406\n",
            "Epoch 116/150\n",
            "613/613 [==============================] - 0s 144us/step - loss: 0.5422 - acc: 0.7341\n",
            "Epoch 117/150\n",
            "613/613 [==============================] - 0s 132us/step - loss: 0.5236 - acc: 0.7488\n",
            "Epoch 118/150\n",
            "613/613 [==============================] - 0s 166us/step - loss: 0.5078 - acc: 0.7439\n",
            "Epoch 119/150\n",
            "613/613 [==============================] - 0s 171us/step - loss: 0.5210 - acc: 0.7504\n",
            "Epoch 120/150\n",
            "613/613 [==============================] - 0s 159us/step - loss: 0.5163 - acc: 0.7504\n",
            "Epoch 121/150\n",
            "613/613 [==============================] - 0s 159us/step - loss: 0.5146 - acc: 0.7602\n",
            "Epoch 122/150\n",
            "613/613 [==============================] - 0s 156us/step - loss: 0.5018 - acc: 0.7553\n",
            "Epoch 123/150\n",
            "613/613 [==============================] - 0s 158us/step - loss: 0.5087 - acc: 0.7520\n",
            "Epoch 124/150\n",
            "613/613 [==============================] - 0s 163us/step - loss: 0.4977 - acc: 0.7667\n",
            "Epoch 125/150\n",
            "613/613 [==============================] - 0s 159us/step - loss: 0.5283 - acc: 0.7471\n",
            "Epoch 126/150\n",
            "613/613 [==============================] - 0s 148us/step - loss: 0.5198 - acc: 0.7504\n",
            "Epoch 127/150\n",
            "613/613 [==============================] - 0s 156us/step - loss: 0.4979 - acc: 0.7455\n",
            "Epoch 128/150\n",
            "613/613 [==============================] - 0s 144us/step - loss: 0.5018 - acc: 0.7618\n",
            "Epoch 129/150\n",
            "613/613 [==============================] - 0s 129us/step - loss: 0.5168 - acc: 0.7520\n",
            "Epoch 130/150\n",
            "613/613 [==============================] - 0s 131us/step - loss: 0.5449 - acc: 0.7227\n",
            "Epoch 131/150\n",
            "613/613 [==============================] - 0s 152us/step - loss: 0.5189 - acc: 0.7455\n",
            "Epoch 132/150\n",
            "613/613 [==============================] - 0s 139us/step - loss: 0.5159 - acc: 0.7455\n",
            "Epoch 133/150\n",
            "613/613 [==============================] - 0s 137us/step - loss: 0.5060 - acc: 0.7520\n",
            "Epoch 134/150\n",
            "613/613 [==============================] - 0s 143us/step - loss: 0.5058 - acc: 0.7471\n",
            "Epoch 135/150\n",
            "613/613 [==============================] - 0s 136us/step - loss: 0.4994 - acc: 0.7488\n",
            "Epoch 136/150\n",
            "613/613 [==============================] - 0s 144us/step - loss: 0.4969 - acc: 0.7602\n",
            "Epoch 137/150\n",
            "613/613 [==============================] - 0s 145us/step - loss: 0.4992 - acc: 0.7732\n",
            "Epoch 138/150\n",
            "613/613 [==============================] - 0s 138us/step - loss: 0.5183 - acc: 0.7471\n",
            "Epoch 139/150\n",
            "613/613 [==============================] - 0s 140us/step - loss: 0.5434 - acc: 0.7292\n",
            "Epoch 140/150\n",
            "613/613 [==============================] - 0s 150us/step - loss: 0.5066 - acc: 0.7439\n",
            "Epoch 141/150\n",
            "613/613 [==============================] - 0s 160us/step - loss: 0.5220 - acc: 0.7537\n",
            "Epoch 142/150\n",
            "613/613 [==============================] - 0s 157us/step - loss: 0.5044 - acc: 0.7537\n",
            "Epoch 143/150\n",
            "613/613 [==============================] - 0s 149us/step - loss: 0.5060 - acc: 0.7439\n",
            "Epoch 144/150\n",
            "613/613 [==============================] - 0s 129us/step - loss: 0.4980 - acc: 0.7569\n",
            "Epoch 145/150\n",
            "613/613 [==============================] - 0s 149us/step - loss: 0.5048 - acc: 0.7602\n",
            "Epoch 146/150\n",
            "613/613 [==============================] - 0s 144us/step - loss: 0.5280 - acc: 0.7520\n",
            "Epoch 147/150\n",
            "613/613 [==============================] - 0s 138us/step - loss: 0.5118 - acc: 0.7374\n",
            "Epoch 148/150\n",
            "613/613 [==============================] - 0s 136us/step - loss: 0.5023 - acc: 0.7651\n",
            "Epoch 149/150\n",
            "613/613 [==============================] - 0s 139us/step - loss: 0.4915 - acc: 0.7569\n",
            "Epoch 150/150\n",
            "613/613 [==============================] - 0s 130us/step - loss: 0.5142 - acc: 0.7455\n"
          ],
          "name": "stdout"
        },
        {
          "output_type": "execute_result",
          "data": {
            "text/plain": [
              "<keras.callbacks.History at 0x7f2546b0add8>"
            ]
          },
          "metadata": {
            "tags": []
          },
          "execution_count": 46
        }
      ]
    },
    {
      "cell_type": "code",
      "metadata": {
        "id": "D3pigbjJMlqm",
        "colab_type": "code",
        "outputId": "34dae4c5-b9e2-47be-c8e0-33f2393a0f76",
        "colab": {
          "base_uri": "https://localhost:8080/",
          "height": 34
        }
      },
      "source": [
        "y_data.dtype"
      ],
      "execution_count": 0,
      "outputs": [
        {
          "output_type": "execute_result",
          "data": {
            "text/plain": [
              "dtype('int64')"
            ]
          },
          "metadata": {
            "tags": []
          },
          "execution_count": 47
        }
      ]
    },
    {
      "cell_type": "code",
      "metadata": {
        "id": "f3jFhRu8NGKt",
        "colab_type": "code",
        "outputId": "3e4518cb-61be-41a6-9cbe-e426771d0504",
        "colab": {
          "base_uri": "https://localhost:8080/",
          "height": 50
        }
      },
      "source": [
        "_,accuracy = model.evaluate(xtrain,ytrain)\n",
        "print('Accuracy: %.2f'%(accuracy*100))"
      ],
      "execution_count": 0,
      "outputs": [
        {
          "output_type": "stream",
          "text": [
            "613/613 [==============================] - 0s 26us/step\n",
            "Accuracy: 75.86\n"
          ],
          "name": "stdout"
        }
      ]
    },
    {
      "cell_type": "code",
      "metadata": {
        "id": "hleLmU4qQcB6",
        "colab_type": "code",
        "colab": {}
      },
      "source": [
        ""
      ],
      "execution_count": 0,
      "outputs": []
    }
  ]
}